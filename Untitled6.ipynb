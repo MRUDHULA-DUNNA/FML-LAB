{
  "nbformat": 4,
  "nbformat_minor": 0,
  "metadata": {
    "colab": {
      "provenance": [],
      "authorship_tag": "ABX9TyPo9bK3Dm/2OdJMqp2X7f0f",
      "include_colab_link": true
    },
    "kernelspec": {
      "name": "python3",
      "display_name": "Python 3"
    },
    "language_info": {
      "name": "python"
    }
  },
  "cells": [
    {
      "cell_type": "markdown",
      "metadata": {
        "id": "view-in-github",
        "colab_type": "text"
      },
      "source": [
        "<a href=\"https://colab.research.google.com/github/MRUDHULA-DUNNA/FML-LAB/blob/main/Untitled6.ipynb\" target=\"_parent\"><img src=\"https://colab.research.google.com/assets/colab-badge.svg\" alt=\"Open In Colab\"/></a>"
      ]
    },
    {
      "cell_type": "code",
      "execution_count": null,
      "metadata": {
        "colab": {
          "base_uri": "https://localhost:8080/"
        },
        "id": "M89GeOtU23Aw",
        "outputId": "d44f1066-4012-461e-95af-5701753482d8"
      },
      "outputs": [
        {
          "output_type": "stream",
          "name": "stdout",
          "text": [
            "[1 2 3]\n",
            "<class 'numpy.ndarray'>\n",
            "(3,)\n",
            "(2, 4)\n"
          ]
        }
      ],
      "source": [
        "import numpy as np\n",
        "a=np.array([1,2,3])\n",
        "print(a)\n",
        "print(type(a))\n",
        "print(a.shape)\n",
        "b=np.array([[1,2,3,4],[5,6,7,8]])\n",
        "print(b.shape)\n",
        "print(b)\n"
      ]
    },
    {
      "cell_type": "code",
      "source": [
        "import numpy as nu\n",
        "a=np.zeros((2,2))\n",
        "print(a)\n",
        "b=np.ones((2,2))\n",
        "print(b)\n",
        "c=np.full((3,3),7)\n",
        "print(c)\n",
        "d=np.eye(3)\n",
        "print(d)\n",
        "e=np.random.random((2,2))\n",
        "print(e)"
      ],
      "metadata": {
        "colab": {
          "base_uri": "https://localhost:8080/"
        },
        "id": "Cwjb5q-3CP9W",
        "outputId": "2d5c83dd-b6d8-4c90-ffa8-f94b91e7eb3b"
      },
      "execution_count": null,
      "outputs": [
        {
          "output_type": "stream",
          "name": "stdout",
          "text": [
            "[[0. 0.]\n",
            " [0. 0.]]\n",
            "[[1. 1.]\n",
            " [1. 1.]]\n",
            "[[7 7 7]\n",
            " [7 7 7]\n",
            " [7 7 7]]\n",
            "[[1. 0. 0.]\n",
            " [0. 1. 0.]\n",
            " [0. 0. 1.]]\n",
            "[[0.38016255 0.47611601]\n",
            " [0.42200345 0.00246686]]\n"
          ]
        }
      ]
    },
    {
      "cell_type": "code",
      "source": [
        "import numpy as np\n",
        "c=np.array([1,2,3,4,5])\n",
        "print(c[2:4])\n",
        "print(c[3:])\n",
        "print(c[:4])\n",
        "print(c[0:4:2])#step\n",
        "a=np.array([[1,2,3,4,5],[6,7,8,9,10]])\n",
        "b=a[0,1:3]\n",
        "print(b)\n",
        "print(a[0:2,0])\n",
        "print(a[0:2,1:4])"
      ],
      "metadata": {
        "colab": {
          "base_uri": "https://localhost:8080/"
        },
        "id": "38xELNuXEBJU",
        "outputId": "fdd3d71c-9a0c-44c2-9dff-d6c8c5758025"
      },
      "execution_count": null,
      "outputs": [
        {
          "output_type": "stream",
          "name": "stdout",
          "text": [
            "[3 4]\n",
            "[4 5]\n",
            "[1 2 3 4]\n",
            "[1 3]\n",
            "[2 3]\n",
            "[1 6]\n",
            "[[2 3 4]\n",
            " [7 8 9]]\n"
          ]
        }
      ]
    },
    {
      "cell_type": "code",
      "source": [
        "import numpy as np\n",
        "a=np.array([[2,3,4,5,6],[5,3,5,3,2]])\n",
        "print(a.shape)\n",
        "print(a.dtype)\n",
        "b=np.array([[2,4,6,7,8],[3,6,7,8,9]])\n",
        "print(np.add(a,b))\n",
        "print(b-a)\n",
        "print(np.subtract(a,b))\n",
        "print(a+b)\n",
        "print(a*b)\n",
        "print(np.multiply(a,b))\n",
        "print(a/b)\n",
        "print(np.divide(a,b))\n"
      ],
      "metadata": {
        "colab": {
          "base_uri": "https://localhost:8080/"
        },
        "id": "s9mRFSZGKCvO",
        "outputId": "43b2a686-e957-4638-d963-d9c5a2f0f98b"
      },
      "execution_count": null,
      "outputs": [
        {
          "output_type": "stream",
          "name": "stdout",
          "text": [
            "(2, 5)\n",
            "int64\n",
            "[[ 4  7 10 12 14]\n",
            " [ 8  9 12 11 11]]\n",
            "[[ 0  1  2  2  2]\n",
            " [-2  3  2  5  7]]\n",
            "[[ 0 -1 -2 -2 -2]\n",
            " [ 2 -3 -2 -5 -7]]\n",
            "[[ 4  7 10 12 14]\n",
            " [ 8  9 12 11 11]]\n",
            "[[ 4 12 24 35 48]\n",
            " [15 18 35 24 18]]\n",
            "[[ 4 12 24 35 48]\n",
            " [15 18 35 24 18]]\n",
            "[[1.         0.75       0.66666667 0.71428571 0.75      ]\n",
            " [1.66666667 0.5        0.71428571 0.375      0.22222222]]\n",
            "[[1.         0.75       0.66666667 0.71428571 0.75      ]\n",
            " [1.66666667 0.5        0.71428571 0.375      0.22222222]]\n"
          ]
        }
      ]
    },
    {
      "cell_type": "code",
      "source": [
        "import numpy as np\n",
        "a=np.array([[2,3,4,5],[5,6,7,8]])\n",
        "b=np.array([[[5,3,6],[3,6,7],[2,5,3]]])\n",
        "print(a.shape,b.shape)\n",
        "c=np.array([1,2])\n",
        "d=np.array([3,4])\n",
        "print(c.dot(d))\n",
        "print(np.dot(c,d))\n",
        "print(np.dot(d,c))\n",
        "print(c@d)\n"
      ],
      "metadata": {
        "colab": {
          "base_uri": "https://localhost:8080/"
        },
        "id": "p68v0Nz0Ms4A",
        "outputId": "5b9bfdaf-a624-4a86-ac47-0f188e59bc90"
      },
      "execution_count": null,
      "outputs": [
        {
          "output_type": "stream",
          "name": "stdout",
          "text": [
            "(2, 4) (1, 3, 3)\n",
            "11\n",
            "11\n",
            "11\n",
            "11\n"
          ]
        }
      ]
    },
    {
      "cell_type": "markdown",
      "source": [],
      "metadata": {
        "id": "6zoRBzYSREER"
      }
    },
    {
      "cell_type": "code",
      "source": [
        "import numpy as np\n",
        "a=np.array([[3,1],[4,3]])\n",
        "b=np.array([[6,7],[3,7]])\n",
        "print(a@b)\n",
        "x=np.array([[1,2,3],[5,6,5]])\n",
        "print(np.sum(x))\n",
        "print(x)\n",
        "print(np.sum(x,axis=0))\n",
        "print(np.sum(x,axis=1))\n",
        "print(x.T)\n",
        "c=np.array([2,4,5])\n",
        "print(c)\n",
        "print(c.T)"
      ],
      "metadata": {
        "colab": {
          "base_uri": "https://localhost:8080/"
        },
        "id": "XGFgFmDCRFCI",
        "outputId": "c287a2a9-fed7-4ee0-8eac-ad7d9a09d9c7"
      },
      "execution_count": null,
      "outputs": [
        {
          "output_type": "stream",
          "name": "stdout",
          "text": [
            "[[21 28]\n",
            " [33 49]]\n",
            "22\n",
            "[[1 2 3]\n",
            " [5 6 5]]\n",
            "[6 8 8]\n",
            "[ 6 16]\n",
            "[[1 5]\n",
            " [2 6]\n",
            " [3 5]]\n",
            "[2 4 5]\n",
            "[2 4 5]\n"
          ]
        }
      ]
    }
  ]
}